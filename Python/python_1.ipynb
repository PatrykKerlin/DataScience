{
 "cells": [
  {
   "cell_type": "markdown",
   "metadata": {},
   "source": [
    "1. Stwórz program, który przyjmie od użytkownika tekst i liczbę, a następnie wypisze tyle linijek z tym tekstem jaka była podana liczba."
   ]
  },
  {
   "cell_type": "code",
   "execution_count": null,
   "metadata": {},
   "outputs": [],
   "source": [
    "tekst = input(\"Wpisz tekst: \")\n",
    "liczba = input(\"Wpisz liczbę całkowitą: \")\n",
    "print(\"Wynik:\")\n",
    "try:\n",
    "    val = int(liczba)\n",
    "    for wynik in range(val):\n",
    "        print(tekst)\n",
    "except ValueError:\n",
    "    print(\"Prosiłem o wpisanie liczby całkowitej!\")"
   ]
  },
  {
   "cell_type": "markdown",
   "metadata": {},
   "source": [
    "2. Funkcja round() może przyjąć jako argument jedną liczbę i zaokrąglić ją o tyle miejsc po przecinku ile podaje się jako drugi argument https://www.programiz.com/python-programming/methods/built-in/round ; stwórz program, który przyjmie od użytkownika liczbę do zaokrąglenia i liczbę miejsc po przecinku, a następnie wyświetli wynik w formie \"Liczba [podana_przez_uzytkownika_liczba], zostala zaokroaglona do [wynik_zaokrąglania] z precyzja [ilosc_miejsc_po_przecinku]\"."
   ]
  },
  {
   "cell_type": "code",
   "execution_count": null,
   "metadata": {},
   "outputs": [],
   "source": [
    "liczba1 = input(\"Wpisz liczbę do zaokrąglenia: \")\n",
    "liczba2 = input(\"Do ilu miejsc dziesiętnych zaokrąglić?: \")\n",
    "try:\n",
    "    val1 = float(liczba1.replace(\",\", \".\"))\n",
    "    val2 = int(liczba2)\n",
    "    print(\"Liczba \"+str(val1)+\", zostala zaokroaglona do \"+str(round(val1, val2))+\" z precyzja \"+str(val2)+\".\")\n",
    "except ValueError:\n",
    "    print(\"Proszę dokładnie czytać polecenia!\")"
   ]
  },
  {
   "cell_type": "markdown",
   "metadata": {},
   "source": [
    "3. Korzystając z informacji w tym tutorialu https://realpython.com/python-strings/ stwórz program, który sprawdzi czy w stringu podanym przez użytkownika znajduje się string \"Monty\"."
   ]
  },
  {
   "cell_type": "code",
   "execution_count": null,
   "metadata": {},
   "outputs": [],
   "source": [
    "tekst = input(\"Wpisz tekst: \")\n",
    "monty = \"monty\"\n",
    "test = tekst.lower()\n",
    "if monty in test:\n",
    "    print('Wpisany tekst zawiera słowo \"Monty\".')\n",
    "else:\n",
    "    print('Wpisany tekst nie zawiera słowa \"Monty\".')"
   ]
  },
  {
   "cell_type": "markdown",
   "metadata": {},
   "source": [
    "4. Korzystając z informacji w tym tutorialu https://realpython.com/python-strings/ stwórz program, który przyjmie od użytkownika literę i zwróci jej wartość ASCII (chodzi o funkcję ord())."
   ]
  },
  {
   "cell_type": "code",
   "execution_count": null,
   "metadata": {},
   "outputs": [],
   "source": [
    "tekst = input(\"Wpisz jedną dowolną literę: \")\n",
    "if len(tekst) == 1 and tekst.isalpha() == True:\n",
    "    print(\"Wartość ASCII: \"+str(ord(tekst)))\n",
    "else:\n",
    "    print(\"Przeczytaj dokładnie polecenie!\")"
   ]
  }
 ],
 "metadata": {
  "kernelspec": {
   "display_name": "Python 3",
   "language": "python",
   "name": "python3"
  },
  "language_info": {
   "codemirror_mode": {
    "name": "ipython",
    "version": 3
   },
   "file_extension": ".py",
   "mimetype": "text/x-python",
   "name": "python",
   "nbconvert_exporter": "python",
   "pygments_lexer": "ipython3",
   "version": "3.7.3"
  }
 },
 "nbformat": 4,
 "nbformat_minor": 2
}
