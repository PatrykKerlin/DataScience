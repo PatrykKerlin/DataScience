{
 "cells": [
  {
   "cell_type": "markdown",
   "metadata": {},
   "source": [
    "Podobnie jak na zajęciach (notebook z1_prawdopodobienstwo_warunkowe )\n",
    "wczytujemy przy pomocy biblioteki pandas plik user-languages z repo\n",
    "https://github.com/infoshareacademy/jdsz3-materialy-python , folder Statystyka/1.\n",
    "Następnie wyznaczamy:\n",
    "a. prawdopodobieństwo nie używania środowiska visual-studio\n",
    "b. prawdopodobieństwo nie używania języka c#\n",
    "c. prawdopodobieństwo używania języka c# pod warunkiem nie używania\n",
    "środowiska visual-studio\n",
    "d. prawdopodobieństwo używania środowiska visual-studio pod warunkiem nie\n",
    "używania języka c#"
   ]
  },
  {
   "cell_type": "code",
   "execution_count": 2,
   "metadata": {},
   "outputs": [
    {
     "data": {
      "text/plain": [
       "{'Prawdopodobieństwo nie używania środowiska visual-studio': 0.9892904186472711,\n",
       " 'Prawdopodobieństwo nie używania języka c#': 0.8981158009277819,\n",
       " 'Prawdopodobieństwo używania języka c# pod warunkiem nie używania środowiska visual-studio': 0.09604029176797499,\n",
       " 'Prawdopodobieństwo używania środowiska visual-studio pod warunkiem nie używania języka c#': 0.004272414232878459}"
      ]
     },
     "execution_count": 2,
     "metadata": {},
     "output_type": "execute_result"
    }
   ],
   "source": [
    "import pandas as pd\n",
    "df = pd.read_csv(\"user-languages.csv\")\n",
    "df1=pd.DataFrame() # utworzenie pustego data frame (obiektu Pandas przechowujacego dane)\n",
    "df1[\"visual-studio\"] = df[\"visual-studio\"]>0 # wybranie wszystkich rekordów, w których wspomniano termin visual-studio i przypisanie im wartości 1\n",
    "df1[\"c#\"] = df[\"c#\"]>0 # wybranie wszystkich rekordów, w których wspomniano termin c# i przypisanie im wartości 1\n",
    "df1.dropna(inplace=True) # usunięcie wartości brakujących, jeśli jakieś w ogóle są\n",
    "del df # usunięcie oryginalnego data frame - nie będzie już potrzebny\n",
    "T = df1.describe() # podsumowanie utworzonej tabelki i zapisanie jej do zmiennej T\n",
    "N = T.loc[\"count\"][0] # wybranie liczebności próby, tj . odpowiedzi respondentów N = 17461\n",
    "Nvs = sum(df1[\"visual-studio\"]) # liczba respondentów używająca technologii visual-studio\n",
    "Nc = sum(df1[\"c#\"]) # liczba respondentów używająca c#\n",
    "Ncvs = sum(df1[\"c#\"]) - sum((df1[\"visual-studio\"]) & (df1[\"c#\"])) # liczba respondentów używająca c# oraz nie używająca visual-studio\n",
    "Nvsc = sum(df1[\"visual-studio\"]) - sum((df1[\"visual-studio\"]) & (df1[\"c#\"])) # liczba respondentów używająca visual-studio oraz nie używająca c#\n",
    "P = dict()\n",
    "P[\"Prawdopodobieństwo nie używania środowiska visual-studio\"] = 1 - Nvs / N\n",
    "P[\"Prawdopodobieństwo nie używania języka c#\"] = 1 - Nc / N\n",
    "P[\"Prawdopodobieństwo używania języka c# pod warunkiem nie używania środowiska visual-studio\"] = Ncvs / (N - Nvs)\n",
    "P[\"Prawdopodobieństwo używania środowiska visual-studio pod warunkiem nie używania języka c#\"] = Nvsc / (N - Nc)\n",
    "P"
   ]
  }
 ],
 "metadata": {
  "kernelspec": {
   "display_name": "Python 3",
   "language": "python",
   "name": "python3"
  },
  "language_info": {
   "codemirror_mode": {
    "name": "ipython",
    "version": 3
   },
   "file_extension": ".py",
   "mimetype": "text/x-python",
   "name": "python",
   "nbconvert_exporter": "python",
   "pygments_lexer": "ipython3",
   "version": "3.7.3"
  }
 },
 "nbformat": 4,
 "nbformat_minor": 2
}
