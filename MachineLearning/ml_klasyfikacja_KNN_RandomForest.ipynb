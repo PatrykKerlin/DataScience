{
 "cells": [
  {
   "cell_type": "code",
   "execution_count": 1,
   "metadata": {},
   "outputs": [],
   "source": [
    "from sklearn.neighbors import KNeighborsClassifier\n",
    "import numpy as np\n",
    "import pandas as pd\n",
    "from sklearn.preprocessing import MinMaxScaler\n",
    "from sklearn.metrics import accuracy_score\n",
    "from sklearn.model_selection import train_test_split, cross_val_score\n",
    "from sklearn.datasets import load_iris\n",
    "from sklearn.ensemble import RandomForestClassifier"
   ]
  },
  {
   "cell_type": "markdown",
   "metadata": {},
   "source": [
    "### Przygotowanie danych"
   ]
  },
  {
   "cell_type": "code",
   "execution_count": 2,
   "metadata": {},
   "outputs": [],
   "source": [
    "iris = load_iris()\n",
    "x2 = iris.data[:, :2]\n",
    "x3 = iris.data[:, :3]\n",
    "x4 = iris.data\n",
    "y = iris.target"
   ]
  },
  {
   "cell_type": "code",
   "execution_count": 3,
   "metadata": {},
   "outputs": [],
   "source": [
    "x2_train, x2_test = train_test_split(x2, test_size=0.1, random_state=42)\n",
    "x3_train, x3_test = train_test_split(x3, test_size=0.1, random_state=42)\n",
    "x4_train, x4_test, y_train, y_test = train_test_split(x4, y, test_size=0.1, random_state=42)"
   ]
  },
  {
   "cell_type": "markdown",
   "metadata": {},
   "source": [
    "### KNN"
   ]
  },
  {
   "cell_type": "code",
   "execution_count": 4,
   "metadata": {},
   "outputs": [],
   "source": [
    "scaler2 = MinMaxScaler()\n",
    "scaler3 = MinMaxScaler()\n",
    "scaler4 = MinMaxScaler()\n",
    "scaler2.fit(x2_train)\n",
    "scaler3.fit(x3_train)\n",
    "scaler4.fit(x4_train)\n",
    "x2_train_norm = scaler2.transform(x2_train)\n",
    "x3_train_norm = scaler3.transform(x3_train)\n",
    "x4_train_norm = scaler4.transform(x4_train)\n",
    "x2_test_norm = scaler2.transform(x2_test)\n",
    "x3_test_norm = scaler3.transform(x3_test)\n",
    "x4_test_norm = scaler4.transform(x4_test)"
   ]
  },
  {
   "cell_type": "code",
   "execution_count": 5,
   "metadata": {},
   "outputs": [
    {
     "name": "stdout",
     "output_type": "stream",
     "text": [
      "knn x2 score: 0.8224338624338625\n",
      "knn x2 params {'neighbors': 37, 'weights': 'uniform', 'p': 1}\n",
      "knn x3 score: 0.9554920634920634\n",
      "knn x3 params {'neighbors': 7, 'weights': 'uniform', 'p': 1}\n",
      "knn x4 score: 0.9774497354497355\n",
      "knn x4 params {'neighbors': 10, 'weights': 'uniform', 'p': 2}\n"
     ]
    }
   ],
   "source": [
    "knn_best_score_x2 = 0.0\n",
    "knn_best_params_x2 = {}\n",
    "for neighbors in range(1, 101):\n",
    "    for w in [\"uniform\", \"distance\"]:\n",
    "        for p in [1, 2]:\n",
    "            knn_classifier = KNeighborsClassifier(n_jobs=-1, n_neighbors=neighbors, p=p, weights=w)\n",
    "            scores = cross_val_score(knn_classifier, x2_train_norm, y_train, cv=5)\n",
    "            score = scores.mean()\n",
    "            if score > knn_best_score_x2:\n",
    "                knn_best_score_x2 = score\n",
    "                knn_best_params_x2[\"neighbors\"] = neighbors\n",
    "                knn_best_params_x2[\"weights\"] = w\n",
    "                knn_best_params_x2[\"p\"] = p\n",
    "print('knn x2 score:', knn_best_score_x2)\n",
    "print('knn x2 params', knn_best_params_x2)\n",
    "\n",
    "knn_best_score_x3 = 0.0\n",
    "knn_best_params_x3 = {}\n",
    "for neighbors in range(1, 101):\n",
    "    for w in [\"uniform\", \"distance\"]:\n",
    "        for p in [1, 2]:\n",
    "            knn_classifier = KNeighborsClassifier(n_jobs=-1, n_neighbors=neighbors, p=p, weights=w)\n",
    "            scores = cross_val_score(knn_classifier, x3_train_norm, y_train, cv=5)\n",
    "            score = scores.mean()\n",
    "            if score > knn_best_score_x3:\n",
    "                knn_best_score_x3 = score\n",
    "                knn_best_params_x3[\"neighbors\"] = neighbors\n",
    "                knn_best_params_x3[\"weights\"] = w\n",
    "                knn_best_params_x3[\"p\"] = p\n",
    "print('knn x3 score:', knn_best_score_x3)\n",
    "print('knn x3 params', knn_best_params_x3)\n",
    "\n",
    "knn_best_score_x4 = 0.0\n",
    "knn_best_params_x4 = {}\n",
    "for neighbors in range(1, 101):\n",
    "    for w in [\"uniform\", \"distance\"]:\n",
    "        for p in [1, 2]:\n",
    "            knn_classifier = KNeighborsClassifier(n_jobs=-1, n_neighbors=neighbors, p=p, weights=w)\n",
    "            scores = cross_val_score(knn_classifier, x4_train_norm, y_train, cv=5)\n",
    "            score = scores.mean()\n",
    "            if score > knn_best_score_x4:\n",
    "                knn_best_score_x4 = score\n",
    "                knn_best_params_x4[\"neighbors\"] = neighbors\n",
    "                knn_best_params_x4[\"weights\"] = w\n",
    "                knn_best_params_x4[\"p\"] = p\n",
    "print('knn x4 score:', knn_best_score_x4)\n",
    "print('knn x4 params', knn_best_params_x4)"
   ]
  },
  {
   "cell_type": "code",
   "execution_count": 6,
   "metadata": {},
   "outputs": [],
   "source": [
    "knn_classifier_x2 = KNeighborsClassifier(n_jobs=-1, n_neighbors=knn_best_params_x2[\"neighbors\"],\n",
    "                                  p=knn_best_params_x2[\"p\"],\n",
    "                                  weights=knn_best_params_x2[\"weights\"])\n",
    "knn_classifier_x2.fit(x2_train_norm, y_train)\n",
    "knn_preds_x2 = knn_classifier_x2.predict(x2_test_norm)\n",
    "knn_accuracy_x2 = accuracy_score(y_test, knn_preds_x2)\n",
    "\n",
    "knn_classifier_x3 = KNeighborsClassifier(n_jobs=-1, n_neighbors=knn_best_params_x3[\"neighbors\"],\n",
    "                                  p=knn_best_params_x3[\"p\"],\n",
    "                                  weights=knn_best_params_x3[\"weights\"])\n",
    "knn_classifier_x3.fit(x3_train_norm, y_train)\n",
    "knn_preds_x3 = knn_classifier_x3.predict(x3_test_norm)\n",
    "knn_accuracy_x3 = accuracy_score(y_test, knn_preds_x3)\n",
    "\n",
    "knn_classifier_x4 = KNeighborsClassifier(n_jobs=-1, n_neighbors=knn_best_params_x4[\"neighbors\"],\n",
    "                                  p=knn_best_params_x4[\"p\"],\n",
    "                                  weights=knn_best_params_x4[\"weights\"])\n",
    "knn_classifier_x4.fit(x4_train_norm, y_train)\n",
    "knn_preds_x4 = knn_classifier_x4.predict(x4_test_norm)\n",
    "knn_accuracy_x4 = accuracy_score(y_test, knn_preds_x4)"
   ]
  },
  {
   "cell_type": "markdown",
   "metadata": {},
   "source": [
    "### Random Forest"
   ]
  },
  {
   "cell_type": "code",
   "execution_count": 7,
   "metadata": {},
   "outputs": [
    {
     "data": {
      "text/plain": [
       "RandomForestClassifier(bootstrap=True, class_weight=None, criterion='gini',\n",
       "                       max_depth=None, max_features='auto', max_leaf_nodes=None,\n",
       "                       min_impurity_decrease=0.0, min_impurity_split=None,\n",
       "                       min_samples_leaf=1, min_samples_split=2,\n",
       "                       min_weight_fraction_leaf=0.0, n_estimators=100,\n",
       "                       n_jobs=-1, oob_score=False, random_state=None, verbose=0,\n",
       "                       warm_start=False)"
      ]
     },
     "execution_count": 7,
     "metadata": {},
     "output_type": "execute_result"
    }
   ],
   "source": [
    "rf_classifier_x2 = RandomForestClassifier(n_estimators=100, n_jobs=-1)\n",
    "rf_classifier_x3 = RandomForestClassifier(n_estimators=100, n_jobs=-1)\n",
    "rf_classifier_x4 = RandomForestClassifier(n_estimators=100, n_jobs=-1)\n",
    "rf_classifier_x2.fit(x2_train, y_train)\n",
    "rf_classifier_x3.fit(x3_train, y_train)\n",
    "rf_classifier_x4.fit(x4_train, y_train)"
   ]
  },
  {
   "cell_type": "code",
   "execution_count": 8,
   "metadata": {},
   "outputs": [
    {
     "name": "stdout",
     "output_type": "stream",
     "text": [
      "x2 score: 0.6732380952380953\n",
      "x3 score: 0.9472275132275133\n",
      "x4 score: 0.9552275132275133\n"
     ]
    }
   ],
   "source": [
    "scores_x2 = cross_val_score(rf_classifier_x2, x2_train, y_train, cv=5)\n",
    "scores_x3 = cross_val_score(rf_classifier_x3, x3_train, y_train, cv=5)\n",
    "scores_x4 = cross_val_score(rf_classifier_x4, x4_train, y_train, cv=5)\n",
    "score_x2 = scores_x2.mean()\n",
    "score_x3 = scores_x3.mean()\n",
    "score_x4 = scores_x4.mean()\n",
    "print('x2 score:', score_x2)\n",
    "print('x3 score:', score_x3)\n",
    "print('x4 score:', score_x4)"
   ]
  },
  {
   "cell_type": "code",
   "execution_count": 10,
   "metadata": {},
   "outputs": [],
   "source": [
    "rf_preds_x2 = rf_classifier_x2.predict(x2_test)\n",
    "rf_accuracy_x2 = accuracy_score(y_test, rf_preds_x2)\n",
    "rf_preds_x3 = rf_classifier_x3.predict(x3_test)\n",
    "rf_accuracy_x3 = accuracy_score(y_test, rf_preds_x3)\n",
    "rf_preds_x4 = rf_classifier_x4.predict(x4_test)\n",
    "rf_accuracy_x4 = accuracy_score(y_test, rf_preds_x4)"
   ]
  },
  {
   "cell_type": "markdown",
   "metadata": {},
   "source": [
    "### Podsumowanie"
   ]
  },
  {
   "cell_type": "code",
   "execution_count": 11,
   "metadata": {},
   "outputs": [
    {
     "name": "stdout",
     "output_type": "stream",
     "text": [
      "KNN accuracy dla 2 cech: 0.8\n",
      "KNN accuracy dla 3 cech: 0.8\n",
      "KNN accuracy dla 4 cech: 1.0\n",
      "RandomForest accuracy dla 2 cech: 0.8666666666666667\n",
      "RandomForest accuracy dla 2 cech: 0.9333333333333333\n",
      "RandomForest accuracy dla 2 cech: 1.0\n"
     ]
    }
   ],
   "source": [
    "print('KNN accuracy dla 2 cech:', knn_accuracy_x2)\n",
    "print('KNN accuracy dla 3 cech:', knn_accuracy_x3)\n",
    "print('KNN accuracy dla 4 cech:', knn_accuracy_x4)\n",
    "\n",
    "print('RandomForest accuracy dla 2 cech:', rf_accuracy_x2)\n",
    "print('RandomForest accuracy dla 2 cech:', rf_accuracy_x3)\n",
    "print('RandomForest accuracy dla 2 cech:', rf_accuracy_x4)"
   ]
  }
 ],
 "metadata": {
  "kernelspec": {
   "display_name": "Python 3",
   "language": "python",
   "name": "python3"
  },
  "language_info": {
   "codemirror_mode": {
    "name": "ipython",
    "version": 3
   },
   "file_extension": ".py",
   "mimetype": "text/x-python",
   "name": "python",
   "nbconvert_exporter": "python",
   "pygments_lexer": "ipython3",
   "version": "3.7.3"
  }
 },
 "nbformat": 4,
 "nbformat_minor": 2
}
